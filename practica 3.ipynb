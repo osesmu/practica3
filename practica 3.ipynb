{
 "cells": [
  {
   "cell_type": "code",
   "execution_count": 90,
   "metadata": {
    "collapsed": true
   },
   "outputs": [],
   "source": [
    "import pandas as pd, numpy as np"
   ]
  },
  {
   "cell_type": "code",
   "execution_count": 91,
   "metadata": {
    "collapsed": true
   },
   "outputs": [],
   "source": [
    "movies=pd.read_csv(\"movie_metadata.csv\")"
   ]
  },
  {
   "cell_type": "code",
   "execution_count": 92,
   "metadata": {
    "collapsed": false
   },
   "outputs": [],
   "source": [
    "movies = movies.dropna(subset=['gross', 'budget'])"
   ]
  },
  {
   "cell_type": "code",
   "execution_count": 93,
   "metadata": {
    "collapsed": false
   },
   "outputs": [
    {
     "data": {
      "text/plain": [
       "(3891, 28)"
      ]
     },
     "execution_count": 93,
     "metadata": {},
     "output_type": "execute_result"
    }
   ],
   "source": [
    "# Retorna el nombre de files i columnes del dataframe\n",
    "movies.shape"
   ]
  },
  {
   "cell_type": "code",
   "execution_count": 94,
   "metadata": {
    "collapsed": false
   },
   "outputs": [
    {
     "data": {
      "text/plain": [
       "array(['color', 'director_name', 'num_critic_for_reviews', 'duration',\n",
       "       'director_facebook_likes', 'actor_3_facebook_likes', 'actor_2_name',\n",
       "       'actor_1_facebook_likes', 'gross', 'genres', 'actor_1_name',\n",
       "       'movie_title', 'num_voted_users', 'cast_total_facebook_likes',\n",
       "       'actor_3_name', 'facenumber_in_poster', 'plot_keywords',\n",
       "       'movie_imdb_link', 'num_user_for_reviews', 'language', 'country',\n",
       "       'content_rating', 'budget', 'title_year', 'actor_2_facebook_likes',\n",
       "       'imdb_score', 'aspect_ratio', 'movie_facebook_likes'], dtype=object)"
      ]
     },
     "execution_count": 94,
     "metadata": {},
     "output_type": "execute_result"
    }
   ],
   "source": [
    "# Et retorna els noms de les columnes.\n",
    "movies.columns.values"
   ]
  },
  {
   "cell_type": "code",
   "execution_count": 95,
   "metadata": {
    "collapsed": false
   },
   "outputs": [
    {
     "name": "stderr",
     "output_type": "stream",
     "text": [
      "/home/cloudera/anaconda3/lib/python3.5/site-packages/numpy/lib/function_base.py:4269: RuntimeWarning: Invalid value encountered in percentile\n",
      "  interpolation=interpolation)\n"
     ]
    },
    {
     "data": {
      "text/html": [
       "<div>\n",
       "<table border=\"1\" class=\"dataframe\">\n",
       "  <thead>\n",
       "    <tr style=\"text-align: right;\">\n",
       "      <th></th>\n",
       "      <th>num_critic_for_reviews</th>\n",
       "      <th>duration</th>\n",
       "      <th>director_facebook_likes</th>\n",
       "      <th>actor_3_facebook_likes</th>\n",
       "      <th>actor_1_facebook_likes</th>\n",
       "      <th>gross</th>\n",
       "      <th>num_voted_users</th>\n",
       "      <th>cast_total_facebook_likes</th>\n",
       "      <th>facenumber_in_poster</th>\n",
       "      <th>num_user_for_reviews</th>\n",
       "      <th>budget</th>\n",
       "      <th>title_year</th>\n",
       "      <th>actor_2_facebook_likes</th>\n",
       "      <th>imdb_score</th>\n",
       "      <th>aspect_ratio</th>\n",
       "      <th>movie_facebook_likes</th>\n",
       "    </tr>\n",
       "  </thead>\n",
       "  <tbody>\n",
       "    <tr>\n",
       "      <th>count</th>\n",
       "      <td>3890.000000</td>\n",
       "      <td>3890.000000</td>\n",
       "      <td>3891.000000</td>\n",
       "      <td>3881.000000</td>\n",
       "      <td>3888.000000</td>\n",
       "      <td>3.891000e+03</td>\n",
       "      <td>3.891000e+03</td>\n",
       "      <td>3891.000000</td>\n",
       "      <td>3885.000000</td>\n",
       "      <td>3891.000000</td>\n",
       "      <td>3.891000e+03</td>\n",
       "      <td>3891.000000</td>\n",
       "      <td>3886.000000</td>\n",
       "      <td>3891.000000</td>\n",
       "      <td>3816.000000</td>\n",
       "      <td>3891.000000</td>\n",
       "    </tr>\n",
       "    <tr>\n",
       "      <th>mean</th>\n",
       "      <td>163.234704</td>\n",
       "      <td>109.896401</td>\n",
       "      <td>781.307376</td>\n",
       "      <td>753.534914</td>\n",
       "      <td>7584.675669</td>\n",
       "      <td>5.105500e+07</td>\n",
       "      <td>1.025834e+05</td>\n",
       "      <td>11263.053200</td>\n",
       "      <td>1.379923</td>\n",
       "      <td>327.309946</td>\n",
       "      <td>4.521028e+07</td>\n",
       "      <td>2003.081470</td>\n",
       "      <td>1970.656974</td>\n",
       "      <td>6.463506</td>\n",
       "      <td>2.109751</td>\n",
       "      <td>9138.152660</td>\n",
       "    </tr>\n",
       "    <tr>\n",
       "      <th>std</th>\n",
       "      <td>124.053735</td>\n",
       "      <td>22.706775</td>\n",
       "      <td>3017.677327</td>\n",
       "      <td>1866.632392</td>\n",
       "      <td>15366.076754</td>\n",
       "      <td>6.980248e+07</td>\n",
       "      <td>1.507162e+05</td>\n",
       "      <td>18925.356084</td>\n",
       "      <td>2.055314</td>\n",
       "      <td>408.006292</td>\n",
       "      <td>2.223895e+08</td>\n",
       "      <td>10.001352</td>\n",
       "      <td>4485.731089</td>\n",
       "      <td>1.056080</td>\n",
       "      <td>0.352416</td>\n",
       "      <td>21302.761999</td>\n",
       "    </tr>\n",
       "    <tr>\n",
       "      <th>min</th>\n",
       "      <td>1.000000</td>\n",
       "      <td>34.000000</td>\n",
       "      <td>0.000000</td>\n",
       "      <td>0.000000</td>\n",
       "      <td>0.000000</td>\n",
       "      <td>1.620000e+02</td>\n",
       "      <td>5.000000e+00</td>\n",
       "      <td>0.000000</td>\n",
       "      <td>0.000000</td>\n",
       "      <td>1.000000</td>\n",
       "      <td>2.180000e+02</td>\n",
       "      <td>1920.000000</td>\n",
       "      <td>0.000000</td>\n",
       "      <td>1.600000</td>\n",
       "      <td>1.180000</td>\n",
       "      <td>0.000000</td>\n",
       "    </tr>\n",
       "    <tr>\n",
       "      <th>25%</th>\n",
       "      <td>NaN</td>\n",
       "      <td>NaN</td>\n",
       "      <td>10.000000</td>\n",
       "      <td>NaN</td>\n",
       "      <td>NaN</td>\n",
       "      <td>6.836508e+06</td>\n",
       "      <td>1.731400e+04</td>\n",
       "      <td>1818.000000</td>\n",
       "      <td>NaN</td>\n",
       "      <td>102.000000</td>\n",
       "      <td>1.000000e+07</td>\n",
       "      <td>1999.000000</td>\n",
       "      <td>NaN</td>\n",
       "      <td>5.900000</td>\n",
       "      <td>NaN</td>\n",
       "      <td>0.000000</td>\n",
       "    </tr>\n",
       "    <tr>\n",
       "      <th>50%</th>\n",
       "      <td>NaN</td>\n",
       "      <td>NaN</td>\n",
       "      <td>58.000000</td>\n",
       "      <td>NaN</td>\n",
       "      <td>NaN</td>\n",
       "      <td>2.797940e+07</td>\n",
       "      <td>5.041500e+04</td>\n",
       "      <td>3888.000000</td>\n",
       "      <td>NaN</td>\n",
       "      <td>203.000000</td>\n",
       "      <td>2.400000e+07</td>\n",
       "      <td>2005.000000</td>\n",
       "      <td>NaN</td>\n",
       "      <td>6.600000</td>\n",
       "      <td>NaN</td>\n",
       "      <td>209.000000</td>\n",
       "    </tr>\n",
       "    <tr>\n",
       "      <th>75%</th>\n",
       "      <td>NaN</td>\n",
       "      <td>NaN</td>\n",
       "      <td>226.000000</td>\n",
       "      <td>NaN</td>\n",
       "      <td>NaN</td>\n",
       "      <td>6.536066e+07</td>\n",
       "      <td>1.242035e+05</td>\n",
       "      <td>16001.500000</td>\n",
       "      <td>NaN</td>\n",
       "      <td>391.000000</td>\n",
       "      <td>5.000000e+07</td>\n",
       "      <td>2010.000000</td>\n",
       "      <td>NaN</td>\n",
       "      <td>7.200000</td>\n",
       "      <td>NaN</td>\n",
       "      <td>11000.000000</td>\n",
       "    </tr>\n",
       "    <tr>\n",
       "      <th>max</th>\n",
       "      <td>813.000000</td>\n",
       "      <td>330.000000</td>\n",
       "      <td>23000.000000</td>\n",
       "      <td>23000.000000</td>\n",
       "      <td>640000.000000</td>\n",
       "      <td>7.605058e+08</td>\n",
       "      <td>1.689764e+06</td>\n",
       "      <td>656730.000000</td>\n",
       "      <td>43.000000</td>\n",
       "      <td>5060.000000</td>\n",
       "      <td>1.221550e+10</td>\n",
       "      <td>2016.000000</td>\n",
       "      <td>137000.000000</td>\n",
       "      <td>9.300000</td>\n",
       "      <td>16.000000</td>\n",
       "      <td>349000.000000</td>\n",
       "    </tr>\n",
       "  </tbody>\n",
       "</table>\n",
       "</div>"
      ],
      "text/plain": [
       "       num_critic_for_reviews     duration  director_facebook_likes  \\\n",
       "count             3890.000000  3890.000000              3891.000000   \n",
       "mean               163.234704   109.896401               781.307376   \n",
       "std                124.053735    22.706775              3017.677327   \n",
       "min                  1.000000    34.000000                 0.000000   \n",
       "25%                       NaN          NaN                10.000000   \n",
       "50%                       NaN          NaN                58.000000   \n",
       "75%                       NaN          NaN               226.000000   \n",
       "max                813.000000   330.000000             23000.000000   \n",
       "\n",
       "       actor_3_facebook_likes  actor_1_facebook_likes         gross  \\\n",
       "count             3881.000000             3888.000000  3.891000e+03   \n",
       "mean               753.534914             7584.675669  5.105500e+07   \n",
       "std               1866.632392            15366.076754  6.980248e+07   \n",
       "min                  0.000000                0.000000  1.620000e+02   \n",
       "25%                       NaN                     NaN  6.836508e+06   \n",
       "50%                       NaN                     NaN  2.797940e+07   \n",
       "75%                       NaN                     NaN  6.536066e+07   \n",
       "max              23000.000000           640000.000000  7.605058e+08   \n",
       "\n",
       "       num_voted_users  cast_total_facebook_likes  facenumber_in_poster  \\\n",
       "count     3.891000e+03                3891.000000           3885.000000   \n",
       "mean      1.025834e+05               11263.053200              1.379923   \n",
       "std       1.507162e+05               18925.356084              2.055314   \n",
       "min       5.000000e+00                   0.000000              0.000000   \n",
       "25%       1.731400e+04                1818.000000                   NaN   \n",
       "50%       5.041500e+04                3888.000000                   NaN   \n",
       "75%       1.242035e+05               16001.500000                   NaN   \n",
       "max       1.689764e+06              656730.000000             43.000000   \n",
       "\n",
       "       num_user_for_reviews        budget   title_year  \\\n",
       "count           3891.000000  3.891000e+03  3891.000000   \n",
       "mean             327.309946  4.521028e+07  2003.081470   \n",
       "std              408.006292  2.223895e+08    10.001352   \n",
       "min                1.000000  2.180000e+02  1920.000000   \n",
       "25%              102.000000  1.000000e+07  1999.000000   \n",
       "50%              203.000000  2.400000e+07  2005.000000   \n",
       "75%              391.000000  5.000000e+07  2010.000000   \n",
       "max             5060.000000  1.221550e+10  2016.000000   \n",
       "\n",
       "       actor_2_facebook_likes   imdb_score  aspect_ratio  movie_facebook_likes  \n",
       "count             3886.000000  3891.000000   3816.000000           3891.000000  \n",
       "mean              1970.656974     6.463506      2.109751           9138.152660  \n",
       "std               4485.731089     1.056080      0.352416          21302.761999  \n",
       "min                  0.000000     1.600000      1.180000              0.000000  \n",
       "25%                       NaN     5.900000           NaN              0.000000  \n",
       "50%                       NaN     6.600000           NaN            209.000000  \n",
       "75%                       NaN     7.200000           NaN          11000.000000  \n",
       "max             137000.000000     9.300000     16.000000         349000.000000  "
      ]
     },
     "execution_count": 95,
     "metadata": {},
     "output_type": "execute_result"
    }
   ],
   "source": [
    "# Et mostra un resum de columnes i files.\n",
    "movies.describe()"
   ]
  },
  {
   "cell_type": "code",
   "execution_count": 96,
   "metadata": {
    "collapsed": false
   },
   "outputs": [
    {
     "name": "stdout",
     "output_type": "stream",
     "text": [
      "<class 'pandas.core.frame.DataFrame'>\n",
      "Int64Index: 3891 entries, 0 to 5042\n",
      "Data columns (total 28 columns):\n",
      "color                        3889 non-null object\n",
      "director_name                3891 non-null object\n",
      "num_critic_for_reviews       3890 non-null float64\n",
      "duration                     3890 non-null float64\n",
      "director_facebook_likes      3891 non-null float64\n",
      "actor_3_facebook_likes       3881 non-null float64\n",
      "actor_2_name                 3886 non-null object\n",
      "actor_1_facebook_likes       3888 non-null float64\n",
      "gross                        3891 non-null float64\n",
      "genres                       3891 non-null object\n",
      "actor_1_name                 3888 non-null object\n",
      "movie_title                  3891 non-null object\n",
      "num_voted_users              3891 non-null int64\n",
      "cast_total_facebook_likes    3891 non-null int64\n",
      "actor_3_name                 3881 non-null object\n",
      "facenumber_in_poster         3885 non-null float64\n",
      "plot_keywords                3860 non-null object\n",
      "movie_imdb_link              3891 non-null object\n",
      "num_user_for_reviews         3891 non-null float64\n",
      "language                     3888 non-null object\n",
      "country                      3891 non-null object\n",
      "content_rating               3840 non-null object\n",
      "budget                       3891 non-null float64\n",
      "title_year                   3891 non-null float64\n",
      "actor_2_facebook_likes       3886 non-null float64\n",
      "imdb_score                   3891 non-null float64\n",
      "aspect_ratio                 3816 non-null float64\n",
      "movie_facebook_likes         3891 non-null int64\n",
      "dtypes: float64(13), int64(3), object(12)\n",
      "memory usage: 881.6+ KB\n"
     ]
    }
   ],
   "source": [
    "# Et mostra certa informació del document, com registres, informació de les columnes,etc.\n",
    "movies.info()"
   ]
  },
  {
   "cell_type": "code",
   "execution_count": 97,
   "metadata": {
    "collapsed": false
   },
   "outputs": [
    {
     "data": {
      "text/plain": [
       "color                               Color\n",
       "director_name              Gore Verbinski\n",
       "num_critic_for_reviews                302\n",
       "duration                              169\n",
       "director_facebook_likes               563\n",
       "Name: 1, dtype: object"
      ]
     },
     "execution_count": 97,
     "metadata": {},
     "output_type": "execute_result"
    }
   ],
   "source": [
    "# et mostra quin rang de columnes vols veure. Mostra el cap de la llista.\n",
    "#movies.iloc[:,11:18].head()\n",
    "#movies.iloc[0:5]\n",
    "movies.iloc[1,0:5]"
   ]
  },
  {
   "cell_type": "markdown",
   "metadata": {},
   "source": [
    "#Exercisi A.\n",
    "\n",
    "El número de filas y columnas en el marco de datos de películas"
   ]
  },
  {
   "cell_type": "code",
   "execution_count": 98,
   "metadata": {
    "collapsed": false
   },
   "outputs": [
    {
     "data": {
      "text/plain": [
       "(3891, 28)"
      ]
     },
     "execution_count": 98,
     "metadata": {},
     "output_type": "execute_result"
    }
   ],
   "source": [
    "movies.shape"
   ]
  },
  {
   "cell_type": "markdown",
   "metadata": {},
   "source": [
    "El nombre de la película en la posición número 1000 o en la fila del marco de datos"
   ]
  },
  {
   "cell_type": "code",
   "execution_count": 99,
   "metadata": {
    "collapsed": false
   },
   "outputs": [
    {
     "data": {
      "text/plain": [
       "color                                                                    Color\n",
       "director_name                                                      Ben Stiller\n",
       "num_critic_for_reviews                                                      72\n",
       "duration                                                                    96\n",
       "director_facebook_likes                                                      0\n",
       "actor_3_facebook_likes                                                     302\n",
       "actor_2_name                                                  Janeane Garofalo\n",
       "actor_1_facebook_likes                                                    2000\n",
       "gross                                                              6.01544e+07\n",
       "genres                                                   Comedy|Drama|Thriller\n",
       "actor_1_name                                                 Matthew Broderick\n",
       "movie_title                                                     The Cable Guy \n",
       "num_voted_users                                                         122347\n",
       "cast_total_facebook_likes                                                 3718\n",
       "actor_3_name                                                         Andy Dick\n",
       "facenumber_in_poster                                                         1\n",
       "plot_keywords                     cable guy|foreplay|friend|kissing|television\n",
       "movie_imdb_link              http://www.imdb.com/title/tt0115798/?ref_=fn_t...\n",
       "num_user_for_reviews                                                       345\n",
       "language                                                               English\n",
       "country                                                                    USA\n",
       "content_rating                                                           PG-13\n",
       "budget                                                                 4.7e+07\n",
       "title_year                                                                1996\n",
       "actor_2_facebook_likes                                                    1000\n",
       "imdb_score                                                                   6\n",
       "aspect_ratio                                                              2.35\n",
       "movie_facebook_likes                                                         0\n",
       "Name: 1055, dtype: object"
      ]
     },
     "execution_count": 99,
     "metadata": {},
     "output_type": "execute_result"
    }
   ],
   "source": [
    "movies.iloc[1000,0:28]"
   ]
  },
  {
   "cell_type": "code",
   "execution_count": 100,
   "metadata": {
    "collapsed": false
   },
   "outputs": [
    {
     "data": {
      "text/plain": [
       "array(['color', 'director_name', 'num_critic_for_reviews', 'duration',\n",
       "       'director_facebook_likes', 'actor_3_facebook_likes', 'actor_2_name',\n",
       "       'actor_1_facebook_likes', 'gross', 'genres', 'actor_1_name',\n",
       "       'movie_title', 'num_voted_users', 'cast_total_facebook_likes',\n",
       "       'actor_3_name', 'facenumber_in_poster', 'plot_keywords',\n",
       "       'movie_imdb_link', 'num_user_for_reviews', 'language', 'country',\n",
       "       'content_rating', 'budget', 'title_year', 'actor_2_facebook_likes',\n",
       "       'imdb_score', 'aspect_ratio', 'movie_facebook_likes'], dtype=object)"
      ]
     },
     "execution_count": 100,
     "metadata": {},
     "output_type": "execute_result"
    }
   ],
   "source": [
    "movies.columns.values"
   ]
  },
  {
   "cell_type": "markdown",
   "metadata": {},
   "source": [
    "Cuál es el nombre de esta variable? Inserte el código a continuación, que recupera las estadísticas de resumen."
   ]
  },
  {
   "cell_type": "code",
   "execution_count": 101,
   "metadata": {
    "collapsed": false
   },
   "outputs": [
    {
     "data": {
      "text/plain": [
       "count    3.891000e+03\n",
       "mean     5.105500e+07\n",
       "std      6.980248e+07\n",
       "min      1.620000e+02\n",
       "25%      6.836508e+06\n",
       "50%      2.797940e+07\n",
       "75%      6.536066e+07\n",
       "max      7.605058e+08\n",
       "Name: gross, dtype: float64"
      ]
     },
     "execution_count": 101,
     "metadata": {},
     "output_type": "execute_result"
    }
   ],
   "source": [
    "movies['gross'].describe()"
   ]
  },
  {
   "cell_type": "markdown",
   "metadata": {},
   "source": [
    "Ejercicio B:"
   ]
  },
  {
   "cell_type": "markdown",
   "metadata": {},
   "source": [
    "El presupuesto más bajo, más alto, medio (promedio) y mediano para películas en el conjunto de datos"
   ]
  },
  {
   "cell_type": "code",
   "execution_count": 102,
   "metadata": {
    "collapsed": false
   },
   "outputs": [
    {
     "data": {
      "text/plain": [
       "24000000.0"
      ]
     },
     "execution_count": 102,
     "metadata": {},
     "output_type": "execute_result"
    }
   ],
   "source": [
    "movies.budget.median()"
   ]
  },
  {
   "cell_type": "code",
   "execution_count": 103,
   "metadata": {
    "collapsed": false
   },
   "outputs": [
    {
     "data": {
      "text/plain": [
       "12215500000.0"
      ]
     },
     "execution_count": 103,
     "metadata": {},
     "output_type": "execute_result"
    }
   ],
   "source": [
    "movies.budget.max()"
   ]
  },
  {
   "cell_type": "code",
   "execution_count": 104,
   "metadata": {
    "collapsed": false
   },
   "outputs": [
    {
     "data": {
      "text/plain": [
       "12215500000.0"
      ]
     },
     "execution_count": 104,
     "metadata": {},
     "output_type": "execute_result"
    }
   ],
   "source": [
    "movies.budget.max()"
   ]
  },
  {
   "cell_type": "code",
   "execution_count": 105,
   "metadata": {
    "collapsed": false
   },
   "outputs": [
    {
     "data": {
      "text/plain": [
       "218.0"
      ]
     },
     "execution_count": 105,
     "metadata": {},
     "output_type": "execute_result"
    }
   ],
   "source": [
    "movies.budget.min()"
   ]
  },
  {
   "cell_type": "code",
   "execution_count": 106,
   "metadata": {
    "collapsed": false
   },
   "outputs": [
    {
     "data": {
      "text/plain": [
       "45210278.27833462"
      ]
     },
     "execution_count": 106,
     "metadata": {},
     "output_type": "execute_result"
    }
   ],
   "source": [
    "movies.budget.mean()"
   ]
  },
  {
   "cell_type": "markdown",
   "metadata": {},
   "source": [
    "las puntuaciones imdb más altas y más bajas ."
   ]
  },
  {
   "cell_type": "code",
   "execution_count": 107,
   "metadata": {
    "collapsed": false
   },
   "outputs": [
    {
     "data": {
      "text/plain": [
       "9.3000000000000007"
      ]
     },
     "execution_count": 107,
     "metadata": {},
     "output_type": "execute_result"
    }
   ],
   "source": [
    "movies.imdb_score.max()"
   ]
  },
  {
   "cell_type": "code",
   "execution_count": 108,
   "metadata": {
    "collapsed": false
   },
   "outputs": [
    {
     "data": {
      "text/plain": [
       "1.6000000000000001"
      ]
     },
     "execution_count": 108,
     "metadata": {},
     "output_type": "execute_result"
    }
   ],
   "source": [
    "movies.imdb_score.min()"
   ]
  },
  {
   "cell_type": "markdown",
   "metadata": {},
   "source": [
    "\n",
    "Las 15 películas mejor calificadas en el conjunto de datos por puntaje imdb. Cree un nuevo marco de datos con el título de la película, el año, el presupuesto y la puntuación imdb. Imprime los 15 primeros."
   ]
  },
  {
   "cell_type": "code",
   "execution_count": 109,
   "metadata": {
    "collapsed": false
   },
   "outputs": [
    {
     "data": {
      "text/html": [
       "<div>\n",
       "<table border=\"1\" class=\"dataframe\">\n",
       "  <thead>\n",
       "    <tr style=\"text-align: right;\">\n",
       "      <th></th>\n",
       "      <th>movie_title</th>\n",
       "      <th>title_year</th>\n",
       "      <th>budget</th>\n",
       "      <th>imdb_score</th>\n",
       "    </tr>\n",
       "  </thead>\n",
       "  <tbody>\n",
       "    <tr>\n",
       "      <th>1937</th>\n",
       "      <td>The Shawshank Redemption</td>\n",
       "      <td>1994.0</td>\n",
       "      <td>25000000.0</td>\n",
       "      <td>9.3</td>\n",
       "    </tr>\n",
       "    <tr>\n",
       "      <th>3466</th>\n",
       "      <td>The Godfather</td>\n",
       "      <td>1972.0</td>\n",
       "      <td>6000000.0</td>\n",
       "      <td>9.2</td>\n",
       "    </tr>\n",
       "    <tr>\n",
       "      <th>66</th>\n",
       "      <td>The Dark Knight</td>\n",
       "      <td>2008.0</td>\n",
       "      <td>185000000.0</td>\n",
       "      <td>9.0</td>\n",
       "    </tr>\n",
       "    <tr>\n",
       "      <th>2837</th>\n",
       "      <td>The Godfather: Part II</td>\n",
       "      <td>1974.0</td>\n",
       "      <td>13000000.0</td>\n",
       "      <td>9.0</td>\n",
       "    </tr>\n",
       "    <tr>\n",
       "      <th>3355</th>\n",
       "      <td>Pulp Fiction</td>\n",
       "      <td>1994.0</td>\n",
       "      <td>8000000.0</td>\n",
       "      <td>8.9</td>\n",
       "    </tr>\n",
       "    <tr>\n",
       "      <th>1874</th>\n",
       "      <td>Schindler's List</td>\n",
       "      <td>1993.0</td>\n",
       "      <td>22000000.0</td>\n",
       "      <td>8.9</td>\n",
       "    </tr>\n",
       "    <tr>\n",
       "      <th>4498</th>\n",
       "      <td>The Good, the Bad and the Ugly</td>\n",
       "      <td>1966.0</td>\n",
       "      <td>1200000.0</td>\n",
       "      <td>8.9</td>\n",
       "    </tr>\n",
       "    <tr>\n",
       "      <th>339</th>\n",
       "      <td>The Lord of the Rings: The Return of the King</td>\n",
       "      <td>2003.0</td>\n",
       "      <td>94000000.0</td>\n",
       "      <td>8.9</td>\n",
       "    </tr>\n",
       "    <tr>\n",
       "      <th>97</th>\n",
       "      <td>Inception</td>\n",
       "      <td>2010.0</td>\n",
       "      <td>160000000.0</td>\n",
       "      <td>8.8</td>\n",
       "    </tr>\n",
       "    <tr>\n",
       "      <th>270</th>\n",
       "      <td>The Lord of the Rings: The Fellowship of the R...</td>\n",
       "      <td>2001.0</td>\n",
       "      <td>93000000.0</td>\n",
       "      <td>8.8</td>\n",
       "    </tr>\n",
       "    <tr>\n",
       "      <th>836</th>\n",
       "      <td>Forrest Gump</td>\n",
       "      <td>1994.0</td>\n",
       "      <td>55000000.0</td>\n",
       "      <td>8.8</td>\n",
       "    </tr>\n",
       "    <tr>\n",
       "      <th>2051</th>\n",
       "      <td>Star Wars: Episode V - The Empire Strikes Back</td>\n",
       "      <td>1980.0</td>\n",
       "      <td>18000000.0</td>\n",
       "      <td>8.8</td>\n",
       "    </tr>\n",
       "    <tr>\n",
       "      <th>683</th>\n",
       "      <td>Fight Club</td>\n",
       "      <td>1999.0</td>\n",
       "      <td>63000000.0</td>\n",
       "      <td>8.8</td>\n",
       "    </tr>\n",
       "    <tr>\n",
       "      <th>654</th>\n",
       "      <td>The Matrix</td>\n",
       "      <td>1999.0</td>\n",
       "      <td>63000000.0</td>\n",
       "      <td>8.7</td>\n",
       "    </tr>\n",
       "    <tr>\n",
       "      <th>4029</th>\n",
       "      <td>City of God</td>\n",
       "      <td>2002.0</td>\n",
       "      <td>3300000.0</td>\n",
       "      <td>8.7</td>\n",
       "    </tr>\n",
       "  </tbody>\n",
       "</table>\n",
       "</div>"
      ],
      "text/plain": [
       "                                            movie_title  title_year  \\\n",
       "1937                          The Shawshank Redemption       1994.0   \n",
       "3466                                     The Godfather       1972.0   \n",
       "66                                     The Dark Knight       2008.0   \n",
       "2837                            The Godfather: Part II       1974.0   \n",
       "3355                                      Pulp Fiction       1994.0   \n",
       "1874                                  Schindler's List       1993.0   \n",
       "4498                    The Good, the Bad and the Ugly       1966.0   \n",
       "339      The Lord of the Rings: The Return of the King       2003.0   \n",
       "97                                           Inception       2010.0   \n",
       "270   The Lord of the Rings: The Fellowship of the R...      2001.0   \n",
       "836                                       Forrest Gump       1994.0   \n",
       "2051    Star Wars: Episode V - The Empire Strikes Back       1980.0   \n",
       "683                                         Fight Club       1999.0   \n",
       "654                                         The Matrix       1999.0   \n",
       "4029                                       City of God       2002.0   \n",
       "\n",
       "           budget  imdb_score  \n",
       "1937   25000000.0         9.3  \n",
       "3466    6000000.0         9.2  \n",
       "66    185000000.0         9.0  \n",
       "2837   13000000.0         9.0  \n",
       "3355    8000000.0         8.9  \n",
       "1874   22000000.0         8.9  \n",
       "4498    1200000.0         8.9  \n",
       "339    94000000.0         8.9  \n",
       "97    160000000.0         8.8  \n",
       "270    93000000.0         8.8  \n",
       "836    55000000.0         8.8  \n",
       "2051   18000000.0         8.8  \n",
       "683    63000000.0         8.8  \n",
       "654    63000000.0         8.7  \n",
       "4029    3300000.0         8.7  "
      ]
     },
     "execution_count": 109,
     "metadata": {},
     "output_type": "execute_result"
    }
   ],
   "source": [
    "filterfilms= movies.sort_values('imdb_score', ascending=False)\n",
    "pelis = filterfilms.head(15)[['movie_title', 'title_year', 'budget', 'imdb_score']]\n",
    "pelis"
   ]
  },
  {
   "cell_type": "markdown",
   "metadata": {},
   "source": [
    "4, Forrest Gump, Matrix, Fight Club, Star Wars"
   ]
  },
  {
   "cell_type": "markdown",
   "metadata": {},
   "source": [
    "Calcule las 10 películas más rentables por porcentaje.\n",
    "\n",
    "¿Qué género de película parece ser más rentable según este cálculo?"
   ]
  },
  {
   "cell_type": "code",
   "execution_count": 110,
   "metadata": {
    "collapsed": false
   },
   "outputs": [
    {
     "data": {
      "text/plain": [
       "0    523505847.0\n",
       "1      9404152.0\n",
       "2    -44925825.0\n",
       "3    198130642.0\n",
       "5   -190641321.0\n",
       "Name: percentprofit1, dtype: float64"
      ]
     },
     "execution_count": 110,
     "metadata": {},
     "output_type": "execute_result"
    }
   ],
   "source": [
    "movies['percentprofit1']=((movies['gross'] - movies['budget']))\n",
    "movies['percentprofit1'].head()"
   ]
  },
  {
   "cell_type": "code",
   "execution_count": 111,
   "metadata": {
    "collapsed": false
   },
   "outputs": [
    {
     "data": {
      "text/html": [
       "<div>\n",
       "<table border=\"1\" class=\"dataframe\">\n",
       "  <thead>\n",
       "    <tr style=\"text-align: right;\">\n",
       "      <th></th>\n",
       "      <th>movie_title</th>\n",
       "      <th>percentprofit1</th>\n",
       "    </tr>\n",
       "  </thead>\n",
       "  <tbody>\n",
       "    <tr>\n",
       "      <th>0</th>\n",
       "      <td>Avatar</td>\n",
       "      <td>523505847.0</td>\n",
       "    </tr>\n",
       "    <tr>\n",
       "      <th>29</th>\n",
       "      <td>Jurassic World</td>\n",
       "      <td>502177271.0</td>\n",
       "    </tr>\n",
       "    <tr>\n",
       "      <th>26</th>\n",
       "      <td>Titanic</td>\n",
       "      <td>458672302.0</td>\n",
       "    </tr>\n",
       "    <tr>\n",
       "      <th>3024</th>\n",
       "      <td>Star Wars: Episode IV - A New Hope</td>\n",
       "      <td>449935665.0</td>\n",
       "    </tr>\n",
       "    <tr>\n",
       "      <th>3080</th>\n",
       "      <td>E.T. the Extra-Terrestrial</td>\n",
       "      <td>424449459.0</td>\n",
       "    </tr>\n",
       "    <tr>\n",
       "      <th>794</th>\n",
       "      <td>The Avengers</td>\n",
       "      <td>403279547.0</td>\n",
       "    </tr>\n",
       "    <tr>\n",
       "      <th>17</th>\n",
       "      <td>The Avengers</td>\n",
       "      <td>403279547.0</td>\n",
       "    </tr>\n",
       "    <tr>\n",
       "      <th>509</th>\n",
       "      <td>The Lion King</td>\n",
       "      <td>377783777.0</td>\n",
       "    </tr>\n",
       "    <tr>\n",
       "      <th>240</th>\n",
       "      <td>Star Wars: Episode I - The Phantom Menace</td>\n",
       "      <td>359544677.0</td>\n",
       "    </tr>\n",
       "    <tr>\n",
       "      <th>66</th>\n",
       "      <td>The Dark Knight</td>\n",
       "      <td>348316061.0</td>\n",
       "    </tr>\n",
       "  </tbody>\n",
       "</table>\n",
       "</div>"
      ],
      "text/plain": [
       "                                     movie_title  percentprofit1\n",
       "0                                        Avatar      523505847.0\n",
       "29                               Jurassic World      502177271.0\n",
       "26                                      Titanic      458672302.0\n",
       "3024         Star Wars: Episode IV - A New Hope      449935665.0\n",
       "3080                 E.T. the Extra-Terrestrial      424449459.0\n",
       "794                                The Avengers      403279547.0\n",
       "17                                 The Avengers      403279547.0\n",
       "509                               The Lion King      377783777.0\n",
       "240   Star Wars: Episode I - The Phantom Menace      359544677.0\n",
       "66                              The Dark Knight      348316061.0"
      ]
     },
     "execution_count": 111,
     "metadata": {},
     "output_type": "execute_result"
    }
   ],
   "source": [
    "mostprofit=movies.sort_values('percentprofit1',ascending=False)\n",
    "mostprofitpercent = movies.sort_values('percentprofit1', ascending=False)\n",
    "mostprofitpercent[['movie_title', 'percentprofit1']].head(10)"
   ]
  },
  {
   "cell_type": "markdown",
   "metadata": {},
   "source": [
    "¿Cuántas películas se hicieron antes de 1960?\n"
   ]
  },
  {
   "cell_type": "code",
   "execution_count": 112,
   "metadata": {
    "collapsed": false
   },
   "outputs": [
    {
     "data": {
      "text/plain": [
       "(23,)"
      ]
     },
     "execution_count": 112,
     "metadata": {},
     "output_type": "execute_result"
    }
   ],
   "source": [
    "# Agrupem totes les pelis d'abans de 1960, i les mostrem amb un shape.\n",
    "anterior1960 = movies[movies['title_year']<1960]\n",
    "\n",
    "anterior1960['title_year'].shape"
   ]
  },
  {
   "cell_type": "markdown",
   "metadata": {},
   "source": [
    "Ejercicio final"
   ]
  },
  {
   "cell_type": "markdown",
   "metadata": {},
   "source": [
    "1. Identifique al director que hizo más películas (en este conjunto de datos) en los últimos 25 años. ¿Cuántos dirigió durante este tiempo?"
   ]
  },
  {
   "cell_type": "code",
   "execution_count": 113,
   "metadata": {
    "collapsed": false
   },
   "outputs": [
    {
     "data": {
      "text/plain": [
       "Clint Eastwood        16\n",
       "Steven Spielberg      15\n",
       "Steven Soderbergh     15\n",
       "Woody Allen           15\n",
       "Ridley Scott          14\n",
       "Michael Bay           13\n",
       "Ron Howard            12\n",
       "Shawn Levy            12\n",
       "Robert Rodriguez      12\n",
       "Peter Jackson         11\n",
       "Tim Burton            11\n",
       "Rob Cohen             11\n",
       "Paul W.S. Anderson    10\n",
       "Sam Raimi             10\n",
       "Brett Ratner          10\n",
       "Renny Harlin          10\n",
       "Joel Schumacher       10\n",
       "Dennis Dugan           9\n",
       "Martin Campbell        9\n",
       "Wes Craven             9\n",
       "Name: director_name, dtype: int64"
      ]
     },
     "execution_count": 113,
     "metadata": {},
     "output_type": "execute_result"
    }
   ],
   "source": [
    "totalpelis = movies[movies['title_year']>1994]\n",
    "# Mostro 20 per comprovar que es correcte el resultat.\n",
    "totalpelis['director_name'].value_counts().head(20)"
   ]
  },
  {
   "cell_type": "markdown",
   "metadata": {},
   "source": [
    "Cuántas ganancias netas totales han obtenido las películas de nuestro director más prolífico en los últimos 25 años? Nota: para el cálculo final sumando las ganancias totales de las películas de este director, deberá probar el comando .sum () . Debería verse así: dfname ['colname']. Sum ()"
   ]
  },
  {
   "cell_type": "code",
   "execution_count": 115,
   "metadata": {
    "collapsed": false
   },
   "outputs": [
    {
     "name": "stderr",
     "output_type": "stream",
     "text": [
      "/home/cloudera/anaconda3/lib/python3.5/site-packages/ipykernel/__main__.py:1: UserWarning: Boolean Series key will be reindexed to match DataFrame index.\n",
      "  if __name__ == '__main__':\n"
     ]
    },
    {
     "data": {
      "text/plain": [
       "463263653.0"
      ]
     },
     "execution_count": 115,
     "metadata": {},
     "output_type": "execute_result"
    }
   ],
   "source": [
    "Totalprofit=totalpelis[movies['director_name']=='Clint Eastwood']\n",
    "Totalprofit['percentprofit1'].sum()"
   ]
  }
 ],
 "metadata": {
  "anaconda-cloud": {},
  "kernelspec": {
   "display_name": "Python [conda root]",
   "language": "python",
   "name": "conda-root-py"
  }
 },
 "nbformat": 4,
 "nbformat_minor": 1
}
